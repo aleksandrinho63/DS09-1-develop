{
 "cells": [
  {
   "cell_type": "markdown",
   "id": "e73517c0-2692-4321-846c-9d8d61141d9a",
   "metadata": {},
   "source": [
    "# Natural language processing"
   ]
  },
  {
   "cell_type": "markdown",
   "id": "bd08f95f-ff3d-41c2-aff8-a33c99136b40",
   "metadata": {},
   "source": [
    "## Task 1"
   ]
  },
  {
   "cell_type": "markdown",
   "id": "100e1fc2-654c-4f05-8171-8ac4ca7d9acc",
   "metadata": {},
   "source": [
    "Загрузи датасет. Отрисуй Bar-plot с количеством комментариев для каждой категории токсичности \n",
    "и комментариев без токсичности.\n",
    "![sample](../misc/images/bar-plot.png)\n",
    "Выведи эти количества для каждой категории. "
   ]
  },
  {
   "cell_type": "code",
   "execution_count": 1,
   "id": "c53dce91-7c94-4d1f-9158-c9e8130b111d",
   "metadata": {},
   "outputs": [],
   "source": [
    "# Код тут"
   ]
  },
  {
   "cell_type": "markdown",
   "id": "66f26770-8f33-4dec-887a-17cd969a4560",
   "metadata": {},
   "source": [
    "## Task 2"
   ]
  },
  {
   "cell_type": "markdown",
   "id": "a32b334c-b71f-43f7-9634-26ee83f63f94",
   "metadata": {},
   "source": [
    "Используя библиотеку [nltk](https://www.nltk.org/) обработайте тексты комментариев: \n",
    "* Приведи текст к нижнему регистру и токенизируй\n",
    "* Оставь токены содержащие английского алфавита \n",
    "* Убери знаки препинания, цифры\n",
    "* Убери стоп-слова из библиотки nltk\n",
    "\n",
    "Выведи количество токенов для комментария с индексом `000103f0d9cfb60f`"
   ]
  },
  {
   "cell_type": "code",
   "execution_count": 2,
   "id": "d15048af-0b0e-4f3e-99c4-12c6ad865308",
   "metadata": {},
   "outputs": [],
   "source": [
    "# Код тут"
   ]
  },
  {
   "cell_type": "markdown",
   "id": "33c1178f-ed36-472b-b31b-b3479d8aecea",
   "metadata": {
    "tags": []
   },
   "source": [
    "## Task 3"
   ]
  },
  {
   "cell_type": "markdown",
   "id": "2a8dcd9e-62cb-40bd-ba4c-42b991f88e19",
   "metadata": {},
   "source": [
    "Раздели выборку на тренировачную и тестовоую с параметрами `random_state=21, test_size=0.3, shuffle=True`\n",
    "Преобразуй тексты комментариев с помощью [TF-IDF](https://scikit-learn.org/stable/modules/generated/sklearn.feature_extraction.text.TfidfVectorizer.html) с количеством признаков равный 3000. \\\n",
    "Выведи размерность тренировачной выборки после преобразования текста."
   ]
  },
  {
   "cell_type": "code",
   "execution_count": 3,
   "id": "d24cd2ca-0156-4d27-a6b2-e082b45fca7b",
   "metadata": {},
   "outputs": [],
   "source": [
    "# Код тут"
   ]
  },
  {
   "cell_type": "markdown",
   "id": "510ab52e-2dc0-46b3-80b2-2f5a587593b5",
   "metadata": {},
   "source": [
    "## Task 4"
   ]
  },
  {
   "cell_type": "markdown",
   "id": "a2408435-5ee0-42b4-97c2-32740925326b",
   "metadata": {},
   "source": [
    "Реши задачу [Multi-Label](https://scikit-learn.org/stable/modules/multiclass.html) классификации используя [RidgeClassifier](https://scikit-learn.org/stable/modules/generated/sklearn.linear_model.RidgeClassifier.html#sklearn.linear_model.RidgeClassifier).\n",
    "Посчитай значение ROC-AUC для тестовой выборки."
   ]
  },
  {
   "cell_type": "code",
   "execution_count": 4,
   "id": "ce606d69-4889-4aad-9cc9-67072b2044d0",
   "metadata": {},
   "outputs": [],
   "source": [
    "# Код тут"
   ]
  },
  {
   "cell_type": "markdown",
   "id": "2dd5b405-447d-420c-9841-72f0eaf03742",
   "metadata": {},
   "source": [
    "## Task 5"
   ]
  },
  {
   "cell_type": "markdown",
   "id": "2e8e7d65-26cf-4457-ae30-a59961fd02ca",
   "metadata": {},
   "source": [
    "Есть посмотреть на тексты токсичных комментариев, то можно заметить, что они могут повторять одни и те же слова. Или там чаще встречается `!` знаки. \\\n",
    "Кроме 'прямых' текстовых признаков, можно использоваться и эту статистику по тексту. Например, долю уникальных слов в тексте комментария или количество пунктуации в тексте.\n",
    "\n",
    "Придумай не меньше 4х признаков, которые могут помочь в обучении модели. Добавьте их к признакам TF-IDF и обучите модель. \n",
    "Получилось ли увеличить качество классификации?"
   ]
  },
  {
   "cell_type": "code",
   "execution_count": 5,
   "id": "895ab80f-6041-4e07-babd-bfb04275e911",
   "metadata": {},
   "outputs": [],
   "source": [
    "# Код тут"
   ]
  }
 ],
 "metadata": {
  "kernelspec": {
   "display_name": "Python 3 (ipykernel)",
   "language": "python",
   "name": "python3"
  },
  "language_info": {
   "codemirror_mode": {
    "name": "ipython",
    "version": 3
   },
   "file_extension": ".py",
   "mimetype": "text/x-python",
   "name": "python",
   "nbconvert_exporter": "python",
   "pygments_lexer": "ipython3",
   "version": "3.9.6"
  }
 },
 "nbformat": 4,
 "nbformat_minor": 5
}
